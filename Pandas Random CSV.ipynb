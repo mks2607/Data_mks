{
 "cells": [
  {
   "cell_type": "code",
   "execution_count": 38,
   "id": "644cbaa3-60e1-4202-88ea-2f5f623b3d61",
   "metadata": {},
   "outputs": [],
   "source": [
    "import pandas as pd\n",
    "import numpy as np"
   ]
  },
  {
   "cell_type": "code",
   "execution_count": 39,
   "id": "8e046bee-9cad-4f0d-9dbc-40cd5667df31",
   "metadata": {},
   "outputs": [
    {
     "data": {
      "text/plain": [
       "{'Date': DatetimeIndex(['2050-01-01', '2050-01-02', '2050-01-03', '2050-01-04',\n",
       "                '2050-01-05', '2050-01-06', '2050-01-07', '2050-01-08',\n",
       "                '2050-01-09', '2050-01-10', '2050-01-11', '2050-01-12',\n",
       "                '2050-01-13', '2050-01-14', '2050-01-15', '2050-01-16',\n",
       "                '2050-01-17', '2050-01-18', '2050-01-19', '2050-01-20',\n",
       "                '2050-01-21', '2050-01-22', '2050-01-23', '2050-01-24',\n",
       "                '2050-01-25', '2050-01-26', '2050-01-27', '2050-01-28',\n",
       "                '2050-01-29', '2050-01-30', '2050-01-31', '2050-02-01',\n",
       "                '2050-02-02', '2050-02-03', '2050-02-04', '2050-02-05',\n",
       "                '2050-02-06', '2050-02-07', '2050-02-08', '2050-02-09',\n",
       "                '2050-02-10', '2050-02-11', '2050-02-12', '2050-02-13',\n",
       "                '2050-02-14', '2050-02-15', '2050-02-16', '2050-02-17',\n",
       "                '2050-02-18', '2050-02-19', '2050-02-20', '2050-02-21',\n",
       "                '2050-02-22', '2050-02-23', '2050-02-24', '2050-02-25',\n",
       "                '2050-02-26', '2050-02-27', '2050-02-28', '2050-03-01',\n",
       "                '2050-03-02', '2050-03-03', '2050-03-04', '2050-03-05',\n",
       "                '2050-03-06', '2050-03-07', '2050-03-08', '2050-03-09',\n",
       "                '2050-03-10', '2050-03-11', '2050-03-12', '2050-03-13',\n",
       "                '2050-03-14', '2050-03-15', '2050-03-16', '2050-03-17',\n",
       "                '2050-03-18', '2050-03-19', '2050-03-20', '2050-03-21',\n",
       "                '2050-03-22', '2050-03-23', '2050-03-24', '2050-03-25',\n",
       "                '2050-03-26', '2050-03-27', '2050-03-28', '2050-03-29',\n",
       "                '2050-03-30', '2050-03-31', '2050-04-01', '2050-04-02',\n",
       "                '2050-04-03', '2050-04-04', '2050-04-05', '2050-04-06',\n",
       "                '2050-04-07', '2050-04-08', '2050-04-09', '2050-04-10'],\n",
       "               dtype='datetime64[ns]', freq='D'),\n",
       " 'Product': array(['Microphone', 'Keyboard', 'Tablet', 'Camera', 'Microphone',\n",
       "        'Tablet', 'Tablet', 'Camera', 'Keyboard', 'Keyboard', 'Camera',\n",
       "        'Phone', 'Keyboard', 'Phone', 'Keyboard', 'Microphone', 'Keyboard',\n",
       "        'Phone', 'Keyboard', 'Phone', 'Keyboard', 'Camera', 'Camera',\n",
       "        'Tablet', 'Camera', 'Camera', 'Camera', 'Camera', 'Tablet',\n",
       "        'Keyboard', 'Camera', 'Tablet', 'Tablet', 'Microphone', 'Phone',\n",
       "        'Camera', 'Tablet', 'Microphone', 'Camera', 'Camera', 'Microphone',\n",
       "        'Keyboard', 'Tablet', 'Camera', 'Microphone', 'Keyboard', 'Phone',\n",
       "        'Keyboard', 'Tablet', 'Microphone', 'Camera', 'Phone', 'Tablet',\n",
       "        'Keyboard', 'Camera', 'Phone', 'Phone', 'Camera', 'Tablet',\n",
       "        'Camera', 'Microphone', 'Keyboard', 'Microphone', 'Camera',\n",
       "        'Microphone', 'Tablet', 'Tablet', 'Phone', 'Phone', 'Camera',\n",
       "        'Microphone', 'Keyboard', 'Phone', 'Tablet', 'Tablet', 'Camera',\n",
       "        'Camera', 'Microphone', 'Tablet', 'Tablet', 'Keyboard', 'Phone',\n",
       "        'Keyboard', 'Microphone', 'Microphone', 'Tablet', 'Microphone',\n",
       "        'Keyboard', 'Microphone', 'Keyboard', 'Keyboard', 'Keyboard',\n",
       "        'Camera', 'Tablet', 'Keyboard', 'Phone', 'Tablet', 'Phone',\n",
       "        'Keyboard', 'Camera'], dtype='<U10'),\n",
       " 'Price': array([147.16, 103.09, 164.48, 103.48, 162.92, 182.2 ,  51.75, 124.72,\n",
       "         61.07, 168.04,  59.61, 103.3 , 191.28, 106.97, 164.44, 165.74,\n",
       "         95.2 , 165.91,  72.94, 136.8 ,  51.35, 156.36, 120.6 , 164.69,\n",
       "        120.11,  90.35, 174.75, 132.7 ,  60.51, 120.87, 161.41,  78.79,\n",
       "        119.65,  84.55, 126.24,  81.29,  57.4 , 127.83,  75.84, 109.45,\n",
       "         66.1 , 126.47,  65.32,  93.31,  84.76, 195.15,  91.75,  85.04,\n",
       "         63.73, 135.51, 112.69, 105.18, 171.95,  93.46, 157.61, 141.94,\n",
       "        114.04, 162.78, 114.17, 114.26, 104.29,  73.  , 190.58, 187.46,\n",
       "        167.29, 142.45,  55.4 , 148.15,  69.47,  94.15, 104.12,  91.2 ,\n",
       "         61.1 ,  72.82,  74.24, 190.81, 105.67,  57.5 , 161.14,  94.8 ,\n",
       "         80.65, 197.26, 183.95, 163.9 , 147.67,  55.95, 172.08, 164.39,\n",
       "        118.29, 129.77,  66.4 ,  71.9 , 126.32,  82.35, 187.47, 119.32,\n",
       "         69.84, 164.64,  81.91,  61.14]),\n",
       " 'Quantity': array([ 7, 10,  7,  1,  1,  3, 13, 10,  7,  1,  7,  8,  1,  4, 10,  1, 13,\n",
       "         4, 11, 12,  5,  8,  6, 13,  4,  9,  9,  1,  7,  8, 13, 14, 10,  6,\n",
       "         5, 10, 11,  6,  3, 14, 13,  6,  7, 12,  7, 13, 13,  9, 12, 11, 13,\n",
       "         8,  8,  8, 14, 12, 13,  3,  7, 12,  1, 14,  6,  3,  2, 12, 11,  9,\n",
       "         6, 10,  5, 10, 12, 12,  2,  3,  1, 11,  5,  8,  1,  7,  3,  5,  4,\n",
       "         7, 13,  8,  7,  4,  1, 14,  7, 14,  5,  8,  7,  3, 11, 13])}"
      ]
     },
     "execution_count": 39,
     "metadata": {},
     "output_type": "execute_result"
    }
   ],
   "source": [
    "np.random.seed(1)\n",
    "n = 100\n",
    "dates = pd.date_range(start='2050-01-01', periods=n, freq='D')\n",
    "products = np.random.choice(['Tablet', 'Camera', 'Phone','Microphone','Keyboard'],n)\n",
    "prices = np.round(np.random.uniform(50.0, 200.0, n),2)\n",
    "quantities = np.random.randint(1,15,n)\n",
    "\n",
    "data = {\n",
    "    'Date': dates,\n",
    "    'Product': products,\n",
    "    'Price': prices,\n",
    "    'Quantity': quantities\n",
    "}\n",
    "\n",
    "data"
   ]
  },
  {
   "cell_type": "code",
   "execution_count": 40,
   "id": "3ecdf45b-3704-45c0-bd35-7f0532943d6a",
   "metadata": {},
   "outputs": [
    {
     "data": {
      "text/html": [
       "<div>\n",
       "<style scoped>\n",
       "    .dataframe tbody tr th:only-of-type {\n",
       "        vertical-align: middle;\n",
       "    }\n",
       "\n",
       "    .dataframe tbody tr th {\n",
       "        vertical-align: top;\n",
       "    }\n",
       "\n",
       "    .dataframe thead th {\n",
       "        text-align: right;\n",
       "    }\n",
       "</style>\n",
       "<table border=\"1\" class=\"dataframe\">\n",
       "  <thead>\n",
       "    <tr style=\"text-align: right;\">\n",
       "      <th></th>\n",
       "      <th>Date</th>\n",
       "      <th>Product</th>\n",
       "      <th>Price</th>\n",
       "      <th>Quantity</th>\n",
       "    </tr>\n",
       "  </thead>\n",
       "  <tbody>\n",
       "    <tr>\n",
       "      <th>0</th>\n",
       "      <td>2050-01-01</td>\n",
       "      <td>Microphone</td>\n",
       "      <td>147.16</td>\n",
       "      <td>7</td>\n",
       "    </tr>\n",
       "    <tr>\n",
       "      <th>1</th>\n",
       "      <td>2050-01-02</td>\n",
       "      <td>Keyboard</td>\n",
       "      <td>103.09</td>\n",
       "      <td>10</td>\n",
       "    </tr>\n",
       "    <tr>\n",
       "      <th>2</th>\n",
       "      <td>2050-01-03</td>\n",
       "      <td>Tablet</td>\n",
       "      <td>164.48</td>\n",
       "      <td>7</td>\n",
       "    </tr>\n",
       "    <tr>\n",
       "      <th>3</th>\n",
       "      <td>2050-01-04</td>\n",
       "      <td>Camera</td>\n",
       "      <td>103.48</td>\n",
       "      <td>1</td>\n",
       "    </tr>\n",
       "    <tr>\n",
       "      <th>4</th>\n",
       "      <td>2050-01-05</td>\n",
       "      <td>Microphone</td>\n",
       "      <td>162.92</td>\n",
       "      <td>1</td>\n",
       "    </tr>\n",
       "  </tbody>\n",
       "</table>\n",
       "</div>"
      ],
      "text/plain": [
       "        Date     Product   Price  Quantity\n",
       "0 2050-01-01  Microphone  147.16         7\n",
       "1 2050-01-02    Keyboard  103.09        10\n",
       "2 2050-01-03      Tablet  164.48         7\n",
       "3 2050-01-04      Camera  103.48         1\n",
       "4 2050-01-05  Microphone  162.92         1"
      ]
     },
     "execution_count": 40,
     "metadata": {},
     "output_type": "execute_result"
    }
   ],
   "source": [
    "df = pd.DataFrame(data)\n",
    "df.head()"
   ]
  },
  {
   "cell_type": "code",
   "execution_count": 41,
   "id": "c7dcd8d4-012a-42ed-8fff-70f73c200f1a",
   "metadata": {},
   "outputs": [
    {
     "data": {
      "text/plain": [
       "Date        datetime64[ns]\n",
       "Product             object\n",
       "Price              float64\n",
       "Quantity             int64\n",
       "dtype: object"
      ]
     },
     "execution_count": 41,
     "metadata": {},
     "output_type": "execute_result"
    }
   ],
   "source": [
    "df.dtypes"
   ]
  },
  {
   "cell_type": "code",
   "execution_count": 42,
   "id": "f0d0d976-6e13-4b93-947e-d90dd3335230",
   "metadata": {},
   "outputs": [],
   "source": [
    "df.to_csv('random_sales.csv', index=False) # index=False - сохранение без индекса"
   ]
  },
  {
   "cell_type": "code",
   "execution_count": 43,
   "id": "ed9a5c93-2cec-4f76-a49c-64c24617d044",
   "metadata": {},
   "outputs": [
    {
     "data": {
      "text/html": [
       "<div>\n",
       "<style scoped>\n",
       "    .dataframe tbody tr th:only-of-type {\n",
       "        vertical-align: middle;\n",
       "    }\n",
       "\n",
       "    .dataframe tbody tr th {\n",
       "        vertical-align: top;\n",
       "    }\n",
       "\n",
       "    .dataframe thead th {\n",
       "        text-align: right;\n",
       "    }\n",
       "</style>\n",
       "<table border=\"1\" class=\"dataframe\">\n",
       "  <thead>\n",
       "    <tr style=\"text-align: right;\">\n",
       "      <th></th>\n",
       "      <th>Date</th>\n",
       "      <th>Product</th>\n",
       "      <th>Price</th>\n",
       "      <th>Quantity</th>\n",
       "    </tr>\n",
       "  </thead>\n",
       "  <tbody>\n",
       "    <tr>\n",
       "      <th>0</th>\n",
       "      <td>2050-01-01</td>\n",
       "      <td>Microphone</td>\n",
       "      <td>147.16</td>\n",
       "      <td>7</td>\n",
       "    </tr>\n",
       "    <tr>\n",
       "      <th>1</th>\n",
       "      <td>2050-01-02</td>\n",
       "      <td>Keyboard</td>\n",
       "      <td>103.09</td>\n",
       "      <td>10</td>\n",
       "    </tr>\n",
       "    <tr>\n",
       "      <th>2</th>\n",
       "      <td>2050-01-03</td>\n",
       "      <td>Tablet</td>\n",
       "      <td>164.48</td>\n",
       "      <td>7</td>\n",
       "    </tr>\n",
       "    <tr>\n",
       "      <th>3</th>\n",
       "      <td>2050-01-04</td>\n",
       "      <td>Camera</td>\n",
       "      <td>103.48</td>\n",
       "      <td>1</td>\n",
       "    </tr>\n",
       "    <tr>\n",
       "      <th>4</th>\n",
       "      <td>2050-01-05</td>\n",
       "      <td>Microphone</td>\n",
       "      <td>162.92</td>\n",
       "      <td>1</td>\n",
       "    </tr>\n",
       "  </tbody>\n",
       "</table>\n",
       "</div>"
      ],
      "text/plain": [
       "        Date     Product   Price  Quantity\n",
       "0 2050-01-01  Microphone  147.16         7\n",
       "1 2050-01-02    Keyboard  103.09        10\n",
       "2 2050-01-03      Tablet  164.48         7\n",
       "3 2050-01-04      Camera  103.48         1\n",
       "4 2050-01-05  Microphone  162.92         1"
      ]
     },
     "execution_count": 43,
     "metadata": {},
     "output_type": "execute_result"
    }
   ],
   "source": [
    "df = pd.read_csv('random_sales.csv', parse_dates=['Date']) # parse_dates=['Date']  -парсит принудительно в формат date time (в этом случае)\n",
    "df.head()"
   ]
  },
  {
   "cell_type": "code",
   "execution_count": 44,
   "id": "78fc913b-605f-4409-9782-bc91f58b8db3",
   "metadata": {},
   "outputs": [
    {
     "data": {
      "text/plain": [
       "Date        datetime64[ns]\n",
       "Product             object\n",
       "Price              float64\n",
       "Quantity             int64\n",
       "dtype: object"
      ]
     },
     "execution_count": 44,
     "metadata": {},
     "output_type": "execute_result"
    }
   ],
   "source": [
    "df.dtypes"
   ]
  },
  {
   "cell_type": "code",
   "execution_count": 45,
   "id": "83902654-b274-493f-9983-a9e16531a442",
   "metadata": {},
   "outputs": [],
   "source": [
    "df.to_excel('sales.xlsx')"
   ]
  },
  {
   "cell_type": "code",
   "execution_count": 46,
   "id": "3cfe4809-dbe0-4d28-811b-6eb682c69c72",
   "metadata": {},
   "outputs": [],
   "source": [
    "df.to_json('sales.json')"
   ]
  },
  {
   "cell_type": "code",
   "execution_count": 47,
   "id": "432d331c-3b39-443b-bcf0-95bb001de523",
   "metadata": {},
   "outputs": [
    {
     "data": {
      "text/plain": [
       "(100, 4)"
      ]
     },
     "execution_count": 47,
     "metadata": {},
     "output_type": "execute_result"
    }
   ],
   "source": [
    "df.shape"
   ]
  },
  {
   "cell_type": "code",
   "execution_count": 48,
   "id": "71a95aab-4fa6-4421-95e3-dce3b9e937f0",
   "metadata": {},
   "outputs": [
    {
     "data": {
      "text/html": [
       "<div>\n",
       "<style scoped>\n",
       "    .dataframe tbody tr th:only-of-type {\n",
       "        vertical-align: middle;\n",
       "    }\n",
       "\n",
       "    .dataframe tbody tr th {\n",
       "        vertical-align: top;\n",
       "    }\n",
       "\n",
       "    .dataframe thead th {\n",
       "        text-align: right;\n",
       "    }\n",
       "</style>\n",
       "<table border=\"1\" class=\"dataframe\">\n",
       "  <thead>\n",
       "    <tr style=\"text-align: right;\">\n",
       "      <th></th>\n",
       "      <th>Date</th>\n",
       "      <th>Price</th>\n",
       "      <th>Quantity</th>\n",
       "    </tr>\n",
       "  </thead>\n",
       "  <tbody>\n",
       "    <tr>\n",
       "      <th>count</th>\n",
       "      <td>100</td>\n",
       "      <td>100.00</td>\n",
       "      <td>100.00</td>\n",
       "    </tr>\n",
       "    <tr>\n",
       "      <th>mean</th>\n",
       "      <td>2050-02-19 12:00:00</td>\n",
       "      <td>117.32</td>\n",
       "      <td>7.79</td>\n",
       "    </tr>\n",
       "    <tr>\n",
       "      <th>min</th>\n",
       "      <td>2050-01-01 00:00:00</td>\n",
       "      <td>51.35</td>\n",
       "      <td>1.00</td>\n",
       "    </tr>\n",
       "    <tr>\n",
       "      <th>25%</th>\n",
       "      <td>2050-01-25 18:00:00</td>\n",
       "      <td>81.13</td>\n",
       "      <td>5.00</td>\n",
       "    </tr>\n",
       "    <tr>\n",
       "      <th>50%</th>\n",
       "      <td>2050-02-19 12:00:00</td>\n",
       "      <td>114.10</td>\n",
       "      <td>8.00</td>\n",
       "    </tr>\n",
       "    <tr>\n",
       "      <th>75%</th>\n",
       "      <td>2050-03-16 06:00:00</td>\n",
       "      <td>161.21</td>\n",
       "      <td>11.25</td>\n",
       "    </tr>\n",
       "    <tr>\n",
       "      <th>max</th>\n",
       "      <td>2050-04-10 00:00:00</td>\n",
       "      <td>197.26</td>\n",
       "      <td>14.00</td>\n",
       "    </tr>\n",
       "    <tr>\n",
       "      <th>std</th>\n",
       "      <td>NaN</td>\n",
       "      <td>42.47</td>\n",
       "      <td>4.03</td>\n",
       "    </tr>\n",
       "  </tbody>\n",
       "</table>\n",
       "</div>"
      ],
      "text/plain": [
       "                      Date   Price  Quantity\n",
       "count                  100  100.00    100.00\n",
       "mean   2050-02-19 12:00:00  117.32      7.79\n",
       "min    2050-01-01 00:00:00   51.35      1.00\n",
       "25%    2050-01-25 18:00:00   81.13      5.00\n",
       "50%    2050-02-19 12:00:00  114.10      8.00\n",
       "75%    2050-03-16 06:00:00  161.21     11.25\n",
       "max    2050-04-10 00:00:00  197.26     14.00\n",
       "std                    NaN   42.47      4.03"
      ]
     },
     "execution_count": 48,
     "metadata": {},
     "output_type": "execute_result"
    }
   ],
   "source": [
    "df.describe().round(2)"
   ]
  },
  {
   "cell_type": "code",
   "execution_count": 54,
   "id": "6cc52e6d-6ae5-4a19-af4f-39284396606a",
   "metadata": {},
   "outputs": [
    {
     "data": {
      "text/plain": [
       "Product\n",
       "Camera        186\n",
       "Keyboard      173\n",
       "Microphone    106\n",
       "Phone         124\n",
       "Tablet        190\n",
       "Name: Quantity, dtype: int64"
      ]
     },
     "execution_count": 54,
     "metadata": {},
     "output_type": "execute_result"
    }
   ],
   "source": [
    "product_sales = df.groupby('Product')['Quantity'].sum() # считает сумма то колонке Product, значение берется из колонки Quantity\n",
    "product_sales"
   ]
  },
  {
   "cell_type": "code",
   "execution_count": 69,
   "id": "0d1f3e4b-7e65-4f82-a443-528dac7eef17",
   "metadata": {},
   "outputs": [
    {
     "data": {
      "text/plain": [
       "Product\n",
       "Camera        121.536250\n",
       "Keyboard      115.610435\n",
       "Microphone    129.428824\n",
       "Phone         123.471333\n",
       "Tablet        100.172857\n",
       "Name: Price, dtype: float64"
      ]
     },
     "execution_count": 69,
     "metadata": {},
     "output_type": "execute_result"
    }
   ],
   "source": [
    "average_prices = df.groupby('Product')['Price'].mean() \n",
    "average_prices"
   ]
  },
  {
   "cell_type": "code",
   "execution_count": 51,
   "id": "0892e672-473c-461b-851c-13139c2ca1b8",
   "metadata": {},
   "outputs": [
    {
     "data": {
      "text/plain": [
       "Product\n",
       "Camera        24\n",
       "Keyboard      23\n",
       "Microphone    17\n",
       "Phone         15\n",
       "Tablet        21\n",
       "Name: Price, dtype: int64"
      ]
     },
     "execution_count": 51,
     "metadata": {},
     "output_type": "execute_result"
    }
   ],
   "source": [
    "df.groupby('Product')['Price'].count() "
   ]
  },
  {
   "cell_type": "code",
   "execution_count": 59,
   "id": "aac3eb00-b32d-4425-9564-9907341a625f",
   "metadata": {},
   "outputs": [
    {
     "name": "stderr",
     "output_type": "stream",
     "text": [
      "Matplotlib is building the font cache; this may take a moment.\n"
     ]
    }
   ],
   "source": [
    "import matplotlib.pyplot as plt"
   ]
  },
  {
   "cell_type": "code",
   "execution_count": 66,
   "id": "d7945cb6-6795-47b5-b50e-318372ca1e2c",
   "metadata": {},
   "outputs": [
    {
     "data": {
      "image/png": "[encoded data removed]",
      "text/plain": [
       "<Figure size 640x480 with 1 Axes>"
      ]
     },
     "metadata": {},
     "output_type": "display_data"
    }
   ],
   "source": [
    "plt.bar(product_sales.index, product_sales.values, color =['red','green','blue'])\n",
    "plt.title('Total Sales per Product')\n",
    "plt.xlabel('Product')\n",
    "plt.ylabel('Total Sales')\n",
    "plt.show()"
   ]
  },
  {
   "cell_type": "code",
   "execution_count": 71,
   "id": "9ace075d-f6ef-4acb-9621-6aaba49d2077",
   "metadata": {},
   "outputs": [
    {
     "data": {
      "image/png": "[encoded data removed]",
      "text/plain": [
       "<Figure size 640x480 with 1 Axes>"
      ]
     },
     "metadata": {},
     "output_type": "display_data"
    }
   ],
   "source": [
    "plt.plot(average_prices.index,average_prices.values)\n",
    "plt.title('Averege Price per Product')\n",
    "plt.xlabel('Product')\n",
    "plt.ylabel('Averege Sales')\n",
    "plt.show()"
   ]
  }
 ],
 "metadata": {
  "kernelspec": {
   "display_name": "Python 3 (ipykernel)",
   "language": "python",
   "name": "python3"
  },
  "language_info": {
   "codemirror_mode": {
    "name": "ipython",
    "version": 3
   },
   "file_extension": ".py",
   "mimetype": "text/x-python",
   "name": "python",
   "nbconvert_exporter": "python",
   "pygments_lexer": "ipython3",
   "version": "3.12.7"
  }
 },
 "nbformat": 4,
 "nbformat_minor": 5
}
